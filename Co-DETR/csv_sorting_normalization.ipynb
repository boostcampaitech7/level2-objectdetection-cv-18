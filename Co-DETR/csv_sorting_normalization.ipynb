{
 "cells": [
  {
   "cell_type": "code",
   "execution_count": 22,
   "metadata": {},
   "outputs": [],
   "source": [
    "import pandas as pd"
   ]
  },
  {
   "cell_type": "code",
   "execution_count": 33,
   "metadata": {},
   "outputs": [],
   "source": [
    "# 경로 설정 및 df 불러오기\n",
    "path = r'/data/ephemeral/home/taehan/level2-objectdetection-cv-18/co_dino_5scale_lsj_swin_large_3x_coco_2.csv'\n",
    "df = pd.read_csv(path)"
   ]
  },
  {
   "cell_type": "code",
   "execution_count": 73,
   "metadata": {},
   "outputs": [],
   "source": [
    "# PredictionString의 socre에 대해 정렬을 수행하는 함수\n",
    "def sort_prediction_string(prediction_string):\n",
    "    # 문자열을 숫자 리스트로 변환\n",
    "    data = list(map(float, prediction_string.split()))\n",
    "    \n",
    "    # 6개의 요소마다 묶어 2D 리스트로 변환 (class_id, score, x_min, y_min, x_max, y_max)\n",
    "    bbox_list = [data[i:i+6] for i in range(0, len(data), 6)]\n",
    "    \n",
    "    # 두 번째 요소(score)를 기준으로 내림차순 정렬\n",
    "    sorted_bbox_list = sorted(bbox_list, key=lambda x: x[1], reverse=True)\n",
    "    \n",
    "    # 첫 번째 요소(class_id)는 int로, 나머지는 소수로 표현\n",
    "    sorted_data = []\n",
    "    for bbox in sorted_bbox_list:\n",
    "        sorted_data.append(f\"{int(bbox[0])} {' '.join(map(str, bbox[1:]))}\")\n",
    "    \n",
    "    # 정렬된 PredictionString을 다시 문자열로 변환\n",
    "    return \" \".join(sorted_data)"
   ]
  },
  {
   "cell_type": "code",
   "execution_count": 74,
   "metadata": {},
   "outputs": [
    {
     "name": "stdout",
     "output_type": "stream",
     "text": [
      "PredictionString 정렬 및 class_id 변환 완료!\n"
     ]
    }
   ],
   "source": [
    "# 각 행의 PredictionString에 함수 적용\n",
    "df['PredictionString'] = df['PredictionString'].apply(sort_prediction_string)\n",
    "\n",
    "# 결과를 새로운 CSV 파일로 저장\n",
    "df.to_csv('sorted_predictions.csv', index=False)\n",
    "\n",
    "print(\"PredictionString 정렬 및 class_id 변환 완료!\")"
   ]
  },
  {
   "cell_type": "code",
   "execution_count": 34,
   "metadata": {},
   "outputs": [],
   "source": [
    "# PredictionString의 각 bbox 값을 size에 맞게 변환하는 함수\n",
    "def norm_prediction_string(prediction_string):\n",
    "    # 문자열을 숫자 리스트로 변환\n",
    "    data = list(map(float, prediction_string.split()))\n",
    "    \n",
    "    # 6개의 요소마다 묶어 2D 리스트로 변환 (class_id, score, x_min, y_min, x_max, y_max)\n",
    "    bbox_list = [data[i:i+6] for i in range(0, len(data), 6)]\n",
    "    \n",
    "    # Bounding box 좌표값이 1024를 넘어가는 이상치 제거\n",
    "    norm_bbox_list = []\n",
    "    for bbox in bbox_list:\n",
    "        class_id, score, x_min, y_min, x_max, y_max = bbox\n",
    "        if x_min <= 1024.0 and y_min <= 1024.0:\n",
    "            if x_max > 1024.0:\n",
    "                x_max = 1024.0\n",
    "            if y_max > 1024.0:\n",
    "                y_max = 1024.0\n",
    "            norm_bbox_list.append([class_id, score, x_min, y_min, x_max, y_max])\n",
    "    \n",
    "    # 첫 번째 요소(class_id)는 int로, 나머지는 소수로 표현\n",
    "    normed_data = []\n",
    "    for bbox in norm_bbox_list:\n",
    "        normed_data.append(f\"{int(bbox[0])} {' '.join(map(str, bbox[1:]))}\")\n",
    "    \n",
    "    # 정렬된 PredictionString을 다시 문자열로 변환\n",
    "    return \" \".join(normed_data)"
   ]
  },
  {
   "cell_type": "code",
   "execution_count": 35,
   "metadata": {},
   "outputs": [
    {
     "name": "stdout",
     "output_type": "stream",
     "text": [
      "PredictionString 정렬 및 class_id 변환 완료!\n"
     ]
    }
   ],
   "source": [
    "# 각 행의 PredictionString에 함수 적용\n",
    "df['PredictionString'] = df['PredictionString'].apply(norm_prediction_string)\n",
    "\n",
    "# 결과를 새로운 CSV 파일로 저장\n",
    "df.to_csv('norm_predictions_2.csv', index=False)\n",
    "\n",
    "print(\"PredictionString 정렬 및 class_id 변환 완료!\")"
   ]
  },
  {
   "cell_type": "code",
   "execution_count": 36,
   "metadata": {},
   "outputs": [],
   "source": [
    "# bbox max값 확인을 함수\n",
    "max_x = 0\n",
    "max_y = 0\n",
    "\n",
    "# PredictionString의 bbox max값 확인하는 함수\n",
    "def sort_prediction_string(prediction_string):\n",
    "    # 문자열을 숫자 리스트로 변환\n",
    "    data = list(map(float, prediction_string.split()))\n",
    "    \n",
    "    # 6개의 요소마다 묶어 2D 리스트로 변환 (class_id, score, x_min, y_min, x_max, y_max)\n",
    "    bbox_list = [data[i:i+6] for i in range(0, len(data), 6)]\n",
    "    \n",
    "    # 세 번째 요소(x_max)를 기준으로 내림차순 정렬\n",
    "    sorted_bbox_list_xmax = sorted(bbox_list, key=lambda x: x[4], reverse=True)\n",
    "\n",
    "    # 세 번째 요소(y_max)를 기준으로 내림차순 정렬\n",
    "    sorted_bbox_list_ymax = sorted(bbox_list, key=lambda x: x[5], reverse=True)\n",
    "\n",
    "    global max_x\n",
    "    global max_y\n",
    "    \n",
    "    if max_x < sorted_bbox_list_xmax[0][4]:\n",
    "        max_x = sorted_bbox_list_xmax[0][4]\n",
    "\n",
    "    if max_y < sorted_bbox_list_ymax[0][5]:\n",
    "        max_y = sorted_bbox_list_ymax[0][5]\n",
    "    \n",
    "    # 첫 번째 요소(class_id)는 int로, 나머지는 소수로 표현\n",
    "    sorted_data_xmax = []\n",
    "    sorted_data_ymax = []\n",
    "    for bbox in sorted_bbox_list_xmax:\n",
    "        sorted_data_xmax.append(f\"{int(bbox[0])} {' '.join(map(str, bbox[1:]))}\")\n",
    "\n",
    "    for bbox in sorted_bbox_list_ymax:\n",
    "        sorted_data_ymax.append(f\"{int(bbox[0])} {' '.join(map(str, bbox[1:]))}\")\n",
    "    \n",
    "    # 정렬된 PredictionString을 다시 문자열로 변환\n",
    "    return sorted_data_xmax"
   ]
  },
  {
   "cell_type": "code",
   "execution_count": 37,
   "metadata": {},
   "outputs": [
    {
     "name": "stdout",
     "output_type": "stream",
     "text": [
      "max_x :  1024.0\n",
      "max_y :  1024.0\n",
      "                                       PredictionString       image_id\n",
      "0     [7 0.910272 603.1141 516.7472 957.2338 1021.32...  test/0000.jpg\n",
      "1     [5 0.022077363 134.06898 0.0 1024.0 302.7635, ...  test/0001.jpg\n",
      "2     [0 0.11582323 776.40857 409.72296 1024.0 1022....  test/0002.jpg\n",
      "3     [0 0.031220892 472.7231 0.98629 1024.0 1019.62...  test/0003.jpg\n",
      "4     [1 0.012014191 0.0 311.20227 880.8234 730.5132...  test/0004.jpg\n",
      "...                                                 ...            ...\n",
      "4866  [0 0.015120848 943.0347 0.0 1023.7104 12.66939...  test/4866.jpg\n",
      "4867  [0 0.006217296 998.33527 192.56792 1023.8391 2...  test/4867.jpg\n",
      "4868  [0 0.051823534 545.0924 451.28494 756.34094 82...  test/4868.jpg\n",
      "4869  [0 0.118838824 478.7046 642.00085 1024.0 943.1...  test/4869.jpg\n",
      "4870  [0 0.031508867 620.87964 644.6768 1022.7994 96...  test/4870.jpg\n",
      "\n",
      "[4871 rows x 2 columns]\n",
      "PredictionString 정렬 및 class_id 변환 완료!\n"
     ]
    }
   ],
   "source": [
    "# 각 행의 PredictionString에 함수 적용\n",
    "df['PredictionString'] = df['PredictionString'].apply(sort_prediction_string)\n",
    "\n",
    "print(\"max_x : \", max_x)\n",
    "\n",
    "print(\"max_y : \", max_y)\n",
    "\n",
    "# 결과를 새로운 CSV 파일로 저장\n",
    "# df.to_csv('sorted_predictions.csv', index=False)\n",
    "\n",
    "print(df)\n",
    "\n",
    "print(\"PredictionString 정렬 및 class_id 변환 완료!\")"
   ]
  },
  {
   "cell_type": "code",
   "execution_count": null,
   "metadata": {},
   "outputs": [],
   "source": []
  }
 ],
 "metadata": {
  "kernelspec": {
   "display_name": "base",
   "language": "python",
   "name": "python3"
  },
  "language_info": {
   "codemirror_mode": {
    "name": "ipython",
    "version": 3
   },
   "file_extension": ".py",
   "mimetype": "text/x-python",
   "name": "python",
   "nbconvert_exporter": "python",
   "pygments_lexer": "ipython3",
   "version": "3.10.13"
  }
 },
 "nbformat": 4,
 "nbformat_minor": 2
}
