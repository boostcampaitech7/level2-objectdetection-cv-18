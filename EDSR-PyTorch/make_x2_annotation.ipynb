{
 "cells": [
  {
   "cell_type": "code",
   "execution_count": 2,
   "metadata": {},
   "outputs": [],
   "source": [
    "import json\n",
    "import os\n",
    "\n",
    "def scale_bboxes(coco_json_path, output_json_path, scale_factor=2):\n",
    "    # JSON 파일 불러오기\n",
    "    with open(coco_json_path, 'r') as f:\n",
    "        coco_data = json.load(f)\n",
    "    \n",
    "    # images의 file_name을 변경\n",
    "    for img in coco_data['images']:\n",
    "        file_name = img['file_name']\n",
    "        new_file_name = img['file_name'][6:10] + '_x2_SR.png'\n",
    "        img['file_name'] = new_file_name\n",
    "\n",
    "    # annotations의 bbox 크기를 조정\n",
    "    for annotation in coco_data['annotations']:\n",
    "        x, y, width, height = annotation['bbox']\n",
    "        area = annotation['area']\n",
    "        \n",
    "        # bbox 크기를 2배로 늘리기\n",
    "        new_x = x * scale_factor\n",
    "        new_y = y * scale_factor\n",
    "        new_width = width * scale_factor\n",
    "        new_height = height * scale_factor\n",
    "        new_area = area * scale_factor * scale_factor\n",
    "        \n",
    "        # 새로운 bbox 저장\n",
    "        annotation['bbox'] = [new_x, new_y, new_width, new_height]\n",
    "        annotation['area'] = new_area\n",
    "    \n",
    "    # 새로운 JSON 파일로 저장\n",
    "    with open(output_json_path, 'w') as f:\n",
    "        json.dump(coco_data, f, indent=4)\n",
    "\n",
    "# 경로 설정\n",
    "input_json = '../../../dataset/train_0.json'  # 기존 COCO json 파일 경로\n",
    "output_json = './experiment/test/train_0_sr_x2.json'  # 수정된 json 파일을 저장할 경로\n",
    "\n",
    "# bbox 크기 2배로 늘리고 저장\n",
    "scale_bboxes(input_json, output_json)"
   ]
  },
  {
   "cell_type": "code",
   "execution_count": null,
   "metadata": {},
   "outputs": [],
   "source": []
  }
 ],
 "metadata": {
  "kernelspec": {
   "display_name": "base",
   "language": "python",
   "name": "python3"
  },
  "language_info": {
   "codemirror_mode": {
    "name": "ipython",
    "version": 3
   },
   "file_extension": ".py",
   "mimetype": "text/x-python",
   "name": "python",
   "nbconvert_exporter": "python",
   "pygments_lexer": "ipython3",
   "version": "3.10.13"
  }
 },
 "nbformat": 4,
 "nbformat_minor": 2
}
